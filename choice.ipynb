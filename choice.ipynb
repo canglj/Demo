{
 "cells": [
  {
   "cell_type": "code",
   "execution_count": 19,
   "id": "85a5923a",
   "metadata": {},
   "outputs": [],
   "source": [
    "# the first method\n",
    "def sample(n:int,r:int,ordered:bool,replacement:bool):\n",
    "    if r > n:\n",
    "        print('error:the number of selection can not beyond the sample size')\n",
    "    else:\n",
    "        varlist = list(range(1,n+1)) # the range of selection\n",
    "        if ordered == True and replacement == False: # permutation\n",
    "            result = permutations(varlist,r)\n",
    "        elif ordered == False and replacement == False: # combination\n",
    "            result = combinations(varlist,r)\n",
    "        elif ordered == False and replacement == True: # combination with replacement\n",
    "            result = combinations_with_replacement(varlist,r)\n",
    "        else:\n",
    "            result = product(varlist,repeat=r) # permutation with replacement\n",
    "    datalist = list(result)\n",
    "    columName = []\n",
    "    for i in range(1,r+1):\n",
    "        col_i = 'x'+ str(i)\n",
    "        columName.append(col_i)\n",
    "    df = pd.DataFrame(datalist,columns=columName)\n",
    "    return(df)"
   ]
  },
  {
   "cell_type": "code",
   "execution_count": 18,
   "id": "a021c7bd",
   "metadata": {},
   "outputs": [],
   "source": [
    "from itertools import permutations,product,combinations,combinations_with_replacement\n",
    "import pandas as pd"
   ]
  },
  {
   "cell_type": "code",
   "execution_count": 20,
   "id": "d56df4b2",
   "metadata": {},
   "outputs": [],
   "source": [
    "def product2(a:list,b:list)->list:\n",
    "    result=[]\n",
    "    for i in a:\n",
    "        for j in b:\n",
    "            if type(j) == int and type(i) == int:\n",
    "                temp = [i] + [j]  # do not change the value of the origin list\n",
    "            elif type(j) == list and type(i) == int:\n",
    "                temp = [i] + j\n",
    "            elif type(j) == int and type(i) == list:\n",
    "                temp = i + [j]\n",
    "            else:\n",
    "                temp = i + j\n",
    "            result.append(temp)\n",
    "    return(result)"
   ]
  },
  {
   "cell_type": "code",
   "execution_count": 22,
   "id": "5bbf72f4",
   "metadata": {},
   "outputs": [],
   "source": [
    "def product_repeat(arr:list,r:int)->list: # permutation with replacement\n",
    "    first_choice = arr # first choose from n\n",
    "    if r == 1:\n",
    "        result = list(map(lambda x:[x],arr))\n",
    "    elif r == 2:\n",
    "        result = product2(first_choice,first_choice)\n",
    "    else:\n",
    "        temp = product_repeat(arr,r-1)\n",
    "        result = product2(first_choice,temp)\n",
    "    return(result)"
   ]
  },
  {
   "cell_type": "code",
   "execution_count": 26,
   "id": "d4dc7cc4",
   "metadata": {},
   "outputs": [],
   "source": [
    "def perm(arr:list,r:int)->list:\n",
    "    result=[]\n",
    "    if r == 1:\n",
    "        result = list(map(lambda x:[x],arr))\n",
    "    else:\n",
    "        for i in range(len(arr)):\n",
    "            rest_arr = arr[:i] + arr[i+1:]\n",
    "            rest_perm = perm(rest_arr,r-1)\n",
    "            temp = []\n",
    "            for term in rest_perm:\n",
    "                temp.append(arr[i:i+1] + term) # use[i:i+1] rather than [i] to return a list\n",
    "            result = result + temp\n",
    "    return(result)"
   ]
  },
  {
   "cell_type": "code",
   "execution_count": 27,
   "id": "029034c1",
   "metadata": {},
   "outputs": [],
   "source": [
    "from collections import Counter\n",
    "def compare(s, t): # 比较两个列表元素是否相同(不考虑顺序)\n",
    "    return Counter(s) == Counter(t)"
   ]
  },
  {
   "cell_type": "code",
   "execution_count": 28,
   "id": "9aaeb728",
   "metadata": {},
   "outputs": [],
   "source": [
    "def combine_replacement(arr:list,r:int):\n",
    "    result_origin = product_repeat(arr,r)\n",
    "    for term1 in result_origin:\n",
    "        for term2 in result_origin :\n",
    "            if term1 != term2 and compare(term1,term2) == True:\n",
    "                result_origin.remove(term2)\n",
    "    return(result_origin)"
   ]
  },
  {
   "cell_type": "code",
   "execution_count": 29,
   "id": "a9bdea23",
   "metadata": {},
   "outputs": [],
   "source": [
    "def combine(arr:list,r:int):\n",
    "    result_origin = perm(arr,r)\n",
    "    for term1 in result_origin:\n",
    "        for term2 in result_origin :\n",
    "            if term1 != term2 and compare(term1,term2) == True:\n",
    "                result_origin.remove(term2)\n",
    "    return(result_origin)"
   ]
  },
  {
   "cell_type": "code",
   "execution_count": 30,
   "id": "02d5e3ab",
   "metadata": {},
   "outputs": [],
   "source": [
    "# the second method\n",
    "def sample2(n:int,r:int,ordered:bool,replacement:bool):\n",
    "    if r>n:\n",
    "        print('error:the number of selection can not beyond the sample size')\n",
    "    else:\n",
    "        varlist=list(range(1,n+1)) # the range of selection\n",
    "        if ordered == True and replacement == False: # permutation\n",
    "            result = perm(varlist,r)\n",
    "        elif ordered == False and replacement == False: # combination\n",
    "            result = combine(varlist,r)\n",
    "        elif ordered == False and replacement == True: # combination with replacement\n",
    "            result = combine_replacement(varlist,r)\n",
    "        else:\n",
    "            result = product_repeat(varlist,r) # permutation with replacement\n",
    "    datalist = list(result)\n",
    "    columName = []\n",
    "    for i in range(1,r+1):\n",
    "        col_i = 'x'+ str(i)\n",
    "        columName.append(col_i)\n",
    "    df = pd.DataFrame(datalist,columns = columName)\n",
    "    return(df)"
   ]
  },
  {
   "cell_type": "code",
   "execution_count": 33,
   "id": "813457e3",
   "metadata": {},
   "outputs": [
    {
     "name": "stdout",
     "output_type": "stream",
     "text": [
      "   x1  x2\n",
      "0   1   2\n",
      "1   1   3\n",
      "2   2   1\n",
      "3   2   3\n",
      "4   3   1\n",
      "5   3   2\n"
     ]
    }
   ],
   "source": [
    "# test the code\n",
    "r1 = sample(3,2,True,False)\n",
    "print(r1)"
   ]
  },
  {
   "cell_type": "code",
   "execution_count": 34,
   "id": "f61a1b50",
   "metadata": {},
   "outputs": [
    {
     "name": "stdout",
     "output_type": "stream",
     "text": [
      "   x1  x2\n",
      "0   1   2\n",
      "1   1   3\n",
      "2   2   1\n",
      "3   2   3\n",
      "4   3   1\n",
      "5   3   2\n"
     ]
    }
   ],
   "source": [
    "# test the code\n",
    "r2 = sample2(3,2,True,False)\n",
    "print(r2)"
   ]
  },
  {
   "cell_type": "code",
   "execution_count": null,
   "id": "c057942e",
   "metadata": {},
   "outputs": [],
   "source": []
  }
 ],
 "metadata": {
  "kernelspec": {
   "display_name": "Python 3.6.5 ('base')",
   "language": "python",
   "name": "python3"
  },
  "language_info": {
   "codemirror_mode": {
    "name": "ipython",
    "version": 3
   },
   "file_extension": ".py",
   "mimetype": "text/x-python",
   "name": "python",
   "nbconvert_exporter": "python",
   "pygments_lexer": "ipython3",
   "version": "3.6.5"
  },
  "vscode": {
   "interpreter": {
    "hash": "ad2bdc8ecc057115af97d19610ffacc2b4e99fae6737bb82f5d7fb13d2f2c186"
   }
  }
 },
 "nbformat": 4,
 "nbformat_minor": 5
}
